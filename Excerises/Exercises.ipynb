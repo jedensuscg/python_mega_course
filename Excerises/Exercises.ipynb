{
 "cells": [
  {
   "cell_type": "code",
   "execution_count": null,
   "metadata": {},
   "outputs": [],
   "source": [
    "# Write a Python program following the steps below:\n",
    "\n",
    "# 1. Create a variable (any name) and store a string in the variable.\n",
    "\n",
    "# 2. Then, print out the type of the variable.\n",
    "\n",
    "variable = \"Hello World\"\n",
    "print(type(variable))"
   ]
  }
 ],
 "metadata": {
  "kernelspec": {
   "display_name": "Python 3.10.1 64-bit",
   "language": "python",
   "name": "python3"
  },
  "language_info": {
   "name": "python",
   "version": "3.10.1"
  },
  "vscode": {
   "interpreter": {
    "hash": "334b92efdca470d5a1222f6c18e8941e0dd3ac9e25304ecf9408546ff4aa7f44"
   }
  }
 },
 "nbformat": 4,
 "nbformat_minor": 5
}
